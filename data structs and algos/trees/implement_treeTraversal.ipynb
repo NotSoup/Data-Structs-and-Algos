{
 "nbformat": 4,
 "nbformat_minor": 2,
 "metadata": {
  "language_info": {
   "name": "python",
   "codemirror_mode": {
    "name": "ipython",
    "version": 3
   }
  },
  "orig_nbformat": 2,
  "file_extension": ".py",
  "mimetype": "text/x-python",
  "name": "python",
  "npconvert_exporter": "python",
  "pygments_lexer": "ipython3",
  "version": 3
 },
 "cells": [
  {
   "cell_type": "code",
   "execution_count": null,
   "metadata": {},
   "outputs": [],
   "source": [
    "def preorderTraversal(tree):\n",
    "    if tree:\n",
    "        print(tree.getRootVal())\n",
    "        preorderTraversal(tree.getLeftChild())\n",
    "        preorderTraversal(tree.getRightChild())"
   ]
  },
  {
   "cell_type": "code",
   "execution_count": null,
   "metadata": {},
   "outputs": [],
   "source": [
    "def postorderTraversal(tree):\n",
    "    if tree != None:\n",
    "        postorderTraversal(tree.getLeftChild())\n",
    "        postorderTraversal(tree.getRightChild())\n",
    "        print(tree.getRootVal())"
   ]
  },
  {
   "cell_type": "code",
   "execution_count": null,
   "metadata": {},
   "outputs": [],
   "source": []
  }
 ]
}