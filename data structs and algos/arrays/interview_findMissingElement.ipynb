{
 "nbformat": 4,
 "nbformat_minor": 2,
 "metadata": {
  "language_info": {
   "name": "python",
   "codemirror_mode": {
    "name": "ipython",
    "version": 3
   },
   "version": "3.7.3"
  },
  "orig_nbformat": 2,
  "file_extension": ".py",
  "mimetype": "text/x-python",
  "name": "python",
  "npconvert_exporter": "python",
  "pygments_lexer": "ipython3",
  "version": 3
 },
 "cells": [
  {
   "cell_type": "code",
   "execution_count": 5,
   "metadata": {},
   "outputs": [],
   "source": [
    "def finder1(arr1, arr2):\n",
    "    sum1 = sum(arr1)\n",
    "    sum2 = sum(arr2)\n",
    "    return sum1 - sum2"
   ]
  },
  {
   "cell_type": "code",
   "execution_count": 23,
   "metadata": {},
   "outputs": [],
   "source": [
    "def finder2(arr1, arr2):\n",
    "    ht = {}\n",
    "    for num in arr1:\n",
    "        if num in ht:\n",
    "            ht[num] += 1\n",
    "        else:\n",
    "            ht[num] = 1\n",
    "    for num in arr2:\n",
    "        if num in ht:\n",
    "            ht[num] -= 1\n",
    "        else:\n",
    "            return False\n",
    "    for key in ht:\n",
    "        if ht[key] != 0:\n",
    "            return key"
   ]
  },
  {
   "cell_type": "code",
   "execution_count": 27,
   "metadata": {},
   "outputs": [],
   "source": [
    "def finder3(arr1, arr2):\n",
    "    xor = 0\n",
    "    for num in arr1+arr2:\n",
    "        xor ^= num\n",
    "    return xor"
   ]
  },
  {
   "cell_type": "code",
   "execution_count": 28,
   "metadata": {},
   "outputs": [
    {
     "data": {
      "text/plain": "6"
     },
     "execution_count": 28,
     "metadata": {},
     "output_type": "execute_result"
    }
   ],
   "source": [
    "arr1 = [9,8,7,6,5,4,3,2,1]\n",
    "arr2 = [9,8,7,5,4,3,2,1]\n",
    "\n",
    "finder3(arr1,arr2)                  # returns 6"
   ]
  },
  {
   "cell_type": "code",
   "execution_count": null,
   "metadata": {},
   "outputs": [],
   "source": []
  }
 ]
}